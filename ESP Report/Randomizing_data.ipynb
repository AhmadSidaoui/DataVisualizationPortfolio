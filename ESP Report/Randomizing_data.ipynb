{
 "cells": [
  {
   "cell_type": "code",
   "execution_count": null,
   "id": "f06eb95a",
   "metadata": {},
   "outputs": [],
   "source": [
    "import pandas as pd\n",
    "import string\n",
    "import os\n",
    "\n",
    "\n",
    "def swap_letters_numbers(s):\n",
    "    result = []\n",
    "    for ch in s:\n",
    "        if ch.isalpha():  # letter → number\n",
    "            num = ord(ch.upper()) - 64  # A=1, B=2, ...\n",
    "            result.append(str(num))\n",
    "        elif ch.isdigit():  # number → letter\n",
    "            letters = ['A','B','C','D','E','F','G','H','I','J']\n",
    "            result.append(letters[int(ch)])\n",
    "        else:  # keep symbols as-is\n",
    "            result.append(ch)\n",
    "    return ''.join(result)\n",
    "\n",
    "def divide_by_3(value):\n",
    "    try:\n",
    "        return int(value)/3\n",
    "    except (ValueError, TypeError):\n",
    "        try:\n",
    "            return float(value)/3\n",
    "        except (ValueError, TypeError):\n",
    "            return value"
   ]
  },
  {
   "cell_type": "code",
   "execution_count": null,
   "id": "db1dfde2",
   "metadata": {},
   "outputs": [],
   "source": [
    "# list all the files in the directory\n",
    "files = os.listdir(os.getcwd())\n",
    "\n",
    "list_of_csv = [file  for file in files if file.endswith(\".csv\")]\n",
    "\n",
    "# change this down the road\n",
    "file = list_of_csv[3]\n",
    "df = pd.read_csv(file)\n",
    "\n",
    "df['Entity'] = df['Entity'].apply(swap_letters_numbers)\n",
    "df['Value'] = df['Value'].apply(divide_by_3)\n",
    "\n",
    "df.to_csv(\"Randomized_\" + file)"
   ]
  },
  {
   "cell_type": "code",
   "execution_count": 54,
   "id": "d7439063",
   "metadata": {},
   "outputs": [],
   "source": [
    "file = list_of_csv[2]\n",
    "df = pd.read_csv(file)\n",
    "\n",
    "exclude_list = ['Enity', 'Time', 'key']\n",
    "value_columns = [col for col in df.columns if col not in exclude_list]\n",
    "for col in value_columns:\n",
    "    df[col] = df[col].apply(divide_by_3)\n",
    "df['Entity'] = df['Entity'].apply(swap_letters_numbers)\n",
    "\n",
    "df.to_csv(\"Randomized_\" + file)"
   ]
  },
  {
   "cell_type": "code",
   "execution_count": 53,
   "id": "26034cc5",
   "metadata": {},
   "outputs": [],
   "source": [
    "file = list_of_csv[4]\n",
    "df = pd.read_csv(file)\n",
    "exclude_list = ['Entity']\n",
    "value_columns = [col for col in df.columns if col not in exclude_list]\n",
    "\n",
    "df['Entity'] = df['Entity'].apply(swap_letters_numbers)\n",
    "for col in value_columns:\n",
    "    df[col] = df[col].apply(divide_by_3)\n",
    "\n",
    "df.to_csv(\"Randomized_\" + file)"
   ]
  },
  {
   "cell_type": "code",
   "execution_count": 52,
   "id": "2d7a7cb1",
   "metadata": {},
   "outputs": [],
   "source": [
    "file = list_of_csv[5]\n",
    "df = pd.read_csv(file)\n",
    "exclude_list = ['Entity']\n",
    "value_columns = [col for col in df.columns if col not in exclude_list]\n",
    "\n",
    "df['Entity'] = df['Entity'].apply(swap_letters_numbers)\n",
    "df['WellName'] = df['WellName'].apply(swap_letters_numbers)\n",
    "df['key'] = df['key'].apply(swap_letters_numbers)\n",
    "\n",
    "for col in value_columns:\n",
    "    df[col] = df[col].apply(divide_by_3)\n",
    "\n",
    "df.to_csv(\"Randomized_\" + file)"
   ]
  },
  {
   "cell_type": "code",
   "execution_count": 51,
   "id": "4907c2d2",
   "metadata": {},
   "outputs": [],
   "source": [
    "file = list_of_csv[6]\n",
    "df = pd.read_csv(file)\n",
    "exclude_list = ['Entity']\n",
    "value_columns = [col for col in df.columns if col not in exclude_list]\n",
    "\n",
    "df['Entity'] = df['Entity'].apply(swap_letters_numbers)\n",
    "df['key'] = df['key'].apply(swap_letters_numbers)\n",
    "\n",
    "for col in value_columns:\n",
    "    df[col] = df[col].apply(divide_by_3)\n",
    "\n",
    "df.to_csv(\"Randomized_\" + file)"
   ]
  }
 ],
 "metadata": {
  "kernelspec": {
   "display_name": "Python 3",
   "language": "python",
   "name": "python3"
  },
  "language_info": {
   "codemirror_mode": {
    "name": "ipython",
    "version": 3
   },
   "file_extension": ".py",
   "mimetype": "text/x-python",
   "name": "python",
   "nbconvert_exporter": "python",
   "pygments_lexer": "ipython3",
   "version": "3.11.0"
  }
 },
 "nbformat": 4,
 "nbformat_minor": 5
}
